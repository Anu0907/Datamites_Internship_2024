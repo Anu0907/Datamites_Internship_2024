{
 "cells": [
  {
   "cell_type": "markdown",
   "id": "d16cefd0",
   "metadata": {},
   "source": [
    "# Business Case: \n",
    "FicZon Inc is an IT solution provider with products ranging from on premises products to SAAS based solutions. FicZon major leads generation channel is digital and through their website. FicZon business is majorly dependent on the sales force effectiveness. As the market is maturing and more new competitors entering the market, FicZon is experiencing the dip in sales. Effective sales is dependent on lead quality and as of now, this is based on manual categorization and highly depended on sales staff. Though there is a quality process, which continuously updates the lead categorization, it’s value is in for post analysis, rather than conversation. \n",
    "FicZon wants to explore Machine Learning to pre-categorize the lead quality and as result, expecting significant increase in sales effectiveness. \n",
    "\n",
    "**Project Goal:** \n",
    "1. Data exploration insights – Sales effectiveness \n",
    "2. ML model to predict the Lead Category (High Potential, Low Potential)"
   ]
  },
  {
   "cell_type": "markdown",
   "id": "0d68010a",
   "metadata": {},
   "source": [
    "# Importing the libraries"
   ]
  },
  {
   "cell_type": "code",
   "execution_count": 1,
   "id": "13fe9c3c",
   "metadata": {},
   "outputs": [
    {
     "name": "stdout",
     "output_type": "stream",
     "text": [
      "Requirement already satisfied: pymysql in c:\\users\\hanna\\anaconda3\\lib\\site-packages (1.1.1)\n",
      "Requirement already satisfied: mysql-connector in c:\\users\\hanna\\anaconda3\\lib\\site-packages (2.2.9)\n"
     ]
    }
   ],
   "source": [
    "!pip install pymysql\n",
    "!pip install mysql-connector"
   ]
  },
  {
   "cell_type": "code",
   "execution_count": 2,
   "id": "624b0d1d",
   "metadata": {},
   "outputs": [],
   "source": [
    "import pandas as pd\n",
    "import numpy as np\n",
    "import matplotlib.pyplot as plt\n",
    "import seaborn as sns\n",
    "import sklearn\n",
    "\n",
    "import warnings\n",
    "warnings.filterwarnings(\"ignore\")\n",
    "\n",
    "import mysql.connector"
   ]
  },
  {
   "cell_type": "markdown",
   "id": "0aeec12c",
   "metadata": {},
   "source": [
    "# Loading the data"
   ]
  },
  {
   "cell_type": "code",
   "execution_count": 3,
   "id": "b0505bdf",
   "metadata": {},
   "outputs": [],
   "source": [
    "connection = mysql.connector.connect(host = '18.136.157.135', user='dm_team2', password='DM!$Team&27@9!20!',\n",
    "                                     database='project_sales')"
   ]
  },
  {
   "cell_type": "code",
   "execution_count": 4,
   "id": "d972b8ce",
   "metadata": {},
   "outputs": [
    {
     "name": "stdout",
     "output_type": "stream",
     "text": [
      "('information_schema',)\n",
      "('project_sales',)\n"
     ]
    }
   ],
   "source": [
    "cursor = connection.cursor()\n",
    "cursor.execute('show databases')\n",
    "\n",
    "for i in cursor:\n",
    "    print(i)"
   ]
  },
  {
   "cell_type": "code",
   "execution_count": 5,
   "id": "49ce6007",
   "metadata": {},
   "outputs": [
    {
     "data": {
      "text/html": [
       "<div>\n",
       "<style scoped>\n",
       "    .dataframe tbody tr th:only-of-type {\n",
       "        vertical-align: middle;\n",
       "    }\n",
       "\n",
       "    .dataframe tbody tr th {\n",
       "        vertical-align: top;\n",
       "    }\n",
       "\n",
       "    .dataframe thead th {\n",
       "        text-align: right;\n",
       "    }\n",
       "</style>\n",
       "<table border=\"1\" class=\"dataframe\">\n",
       "  <thead>\n",
       "    <tr style=\"text-align: right;\">\n",
       "      <th></th>\n",
       "      <th>Tables_in_project_sales</th>\n",
       "    </tr>\n",
       "  </thead>\n",
       "  <tbody>\n",
       "    <tr>\n",
       "      <th>0</th>\n",
       "      <td>data</td>\n",
       "    </tr>\n",
       "  </tbody>\n",
       "</table>\n",
       "</div>"
      ],
      "text/plain": [
       "  Tables_in_project_sales\n",
       "0                    data"
      ]
     },
     "execution_count": 5,
     "metadata": {},
     "output_type": "execute_result"
    }
   ],
   "source": [
    "database_tables = pd.read_sql_query('show tables',connection)\n",
    "\n",
    "database_tables"
   ]
  },
  {
   "cell_type": "code",
   "execution_count": 6,
   "id": "52c83cf8",
   "metadata": {},
   "outputs": [],
   "source": [
    "query = \"select * from data\""
   ]
  },
  {
   "cell_type": "code",
   "execution_count": 7,
   "id": "3407347f",
   "metadata": {},
   "outputs": [],
   "source": [
    "sales_df = pd.read_sql(query, connection)"
   ]
  },
  {
   "cell_type": "code",
   "execution_count": 8,
   "id": "fdf93b57",
   "metadata": {},
   "outputs": [
    {
     "name": "stdout",
     "output_type": "stream",
     "text": [
      "(7422, 9)\n"
     ]
    },
    {
     "data": {
      "text/html": [
       "<div>\n",
       "<style scoped>\n",
       "    .dataframe tbody tr th:only-of-type {\n",
       "        vertical-align: middle;\n",
       "    }\n",
       "\n",
       "    .dataframe tbody tr th {\n",
       "        vertical-align: top;\n",
       "    }\n",
       "\n",
       "    .dataframe thead th {\n",
       "        text-align: right;\n",
       "    }\n",
       "</style>\n",
       "<table border=\"1\" class=\"dataframe\">\n",
       "  <thead>\n",
       "    <tr style=\"text-align: right;\">\n",
       "      <th></th>\n",
       "      <th>Created</th>\n",
       "      <th>Product_ID</th>\n",
       "      <th>Source</th>\n",
       "      <th>Mobile</th>\n",
       "      <th>EMAIL</th>\n",
       "      <th>Sales_Agent</th>\n",
       "      <th>Location</th>\n",
       "      <th>Delivery_Mode</th>\n",
       "      <th>Status</th>\n",
       "    </tr>\n",
       "  </thead>\n",
       "  <tbody>\n",
       "    <tr>\n",
       "      <th>0</th>\n",
       "      <td>14-11-2018 10:05</td>\n",
       "      <td></td>\n",
       "      <td>Website</td>\n",
       "      <td>984XXXXXXX</td>\n",
       "      <td>aXXXXXXX@gmail.com</td>\n",
       "      <td>Sales-Agent-11</td>\n",
       "      <td></td>\n",
       "      <td>Mode-5</td>\n",
       "      <td>Open</td>\n",
       "    </tr>\n",
       "    <tr>\n",
       "      <th>1</th>\n",
       "      <td>14-11-2018 09:22</td>\n",
       "      <td></td>\n",
       "      <td>Website</td>\n",
       "      <td>XXXXXXX</td>\n",
       "      <td>#VALUE!</td>\n",
       "      <td>Sales-Agent-10</td>\n",
       "      <td></td>\n",
       "      <td>Mode-5</td>\n",
       "      <td>Open</td>\n",
       "    </tr>\n",
       "    <tr>\n",
       "      <th>2</th>\n",
       "      <td>14-11-2018 09:21</td>\n",
       "      <td></td>\n",
       "      <td>Website</td>\n",
       "      <td>XXXXXXX</td>\n",
       "      <td>dXXXXXXX@yahoo.com</td>\n",
       "      <td>Sales-Agent-10</td>\n",
       "      <td></td>\n",
       "      <td>Mode-5</td>\n",
       "      <td>Open</td>\n",
       "    </tr>\n",
       "    <tr>\n",
       "      <th>3</th>\n",
       "      <td>14-11-2018 08:46</td>\n",
       "      <td></td>\n",
       "      <td>Website</td>\n",
       "      <td>XXXXXXX</td>\n",
       "      <td>wXXXXXXX@gmail.com</td>\n",
       "      <td>Sales-Agent-10</td>\n",
       "      <td></td>\n",
       "      <td>Mode-5</td>\n",
       "      <td>Open</td>\n",
       "    </tr>\n",
       "    <tr>\n",
       "      <th>4</th>\n",
       "      <td>14-11-2018 07:34</td>\n",
       "      <td></td>\n",
       "      <td>Website</td>\n",
       "      <td>XXXXXXX</td>\n",
       "      <td>cXXXXXXX@gmail.com</td>\n",
       "      <td>Sales-Agent-10</td>\n",
       "      <td></td>\n",
       "      <td>Mode-5</td>\n",
       "      <td>Open</td>\n",
       "    </tr>\n",
       "  </tbody>\n",
       "</table>\n",
       "</div>"
      ],
      "text/plain": [
       "            Created Product_ID   Source      Mobile               EMAIL  \\\n",
       "0  14-11-2018 10:05             Website  984XXXXXXX  aXXXXXXX@gmail.com   \n",
       "1  14-11-2018 09:22             Website     XXXXXXX             #VALUE!   \n",
       "2  14-11-2018 09:21             Website     XXXXXXX  dXXXXXXX@yahoo.com   \n",
       "3  14-11-2018 08:46             Website     XXXXXXX  wXXXXXXX@gmail.com   \n",
       "4  14-11-2018 07:34             Website     XXXXXXX  cXXXXXXX@gmail.com   \n",
       "\n",
       "      Sales_Agent Location Delivery_Mode Status  \n",
       "0  Sales-Agent-11                 Mode-5   Open  \n",
       "1  Sales-Agent-10                 Mode-5   Open  \n",
       "2  Sales-Agent-10                 Mode-5   Open  \n",
       "3  Sales-Agent-10                 Mode-5   Open  \n",
       "4  Sales-Agent-10                 Mode-5   Open  "
      ]
     },
     "execution_count": 8,
     "metadata": {},
     "output_type": "execute_result"
    }
   ],
   "source": [
    "print(sales_df.shape)\n",
    "\n",
    "sales_df.head()"
   ]
  },
  {
   "cell_type": "code",
   "execution_count": 9,
   "id": "b2b5d532",
   "metadata": {},
   "outputs": [
    {
     "data": {
      "text/plain": [
       "Index(['Created', 'Product_ID', 'Source', 'Mobile', 'EMAIL', 'Sales_Agent',\n",
       "       'Location', 'Delivery_Mode', 'Status'],\n",
       "      dtype='object')"
      ]
     },
     "execution_count": 9,
     "metadata": {},
     "output_type": "execute_result"
    }
   ],
   "source": [
    "sales_df.columns"
   ]
  },
  {
   "cell_type": "code",
   "execution_count": 10,
   "id": "e6bd87ed",
   "metadata": {},
   "outputs": [
    {
     "name": "stdout",
     "output_type": "stream",
     "text": [
      "<class 'pandas.core.frame.DataFrame'>\n",
      "RangeIndex: 7422 entries, 0 to 7421\n",
      "Data columns (total 9 columns):\n",
      " #   Column         Non-Null Count  Dtype \n",
      "---  ------         --------------  ----- \n",
      " 0   Created        7422 non-null   object\n",
      " 1   Product_ID     7422 non-null   object\n",
      " 2   Source         7422 non-null   object\n",
      " 3   Mobile         7422 non-null   object\n",
      " 4   EMAIL          7422 non-null   object\n",
      " 5   Sales_Agent    7422 non-null   object\n",
      " 6   Location       7422 non-null   object\n",
      " 7   Delivery_Mode  7422 non-null   object\n",
      " 8   Status         7422 non-null   object\n",
      "dtypes: object(9)\n",
      "memory usage: 522.0+ KB\n"
     ]
    }
   ],
   "source": [
    "sales_df.info()"
   ]
  },
  {
   "cell_type": "code",
   "execution_count": 11,
   "id": "25cfc7cd",
   "metadata": {},
   "outputs": [
    {
     "data": {
      "text/html": [
       "<div>\n",
       "<style scoped>\n",
       "    .dataframe tbody tr th:only-of-type {\n",
       "        vertical-align: middle;\n",
       "    }\n",
       "\n",
       "    .dataframe tbody tr th {\n",
       "        vertical-align: top;\n",
       "    }\n",
       "\n",
       "    .dataframe thead th {\n",
       "        text-align: right;\n",
       "    }\n",
       "</style>\n",
       "<table border=\"1\" class=\"dataframe\">\n",
       "  <thead>\n",
       "    <tr style=\"text-align: right;\">\n",
       "      <th></th>\n",
       "      <th>Created</th>\n",
       "      <th>Product_ID</th>\n",
       "      <th>Source</th>\n",
       "      <th>Mobile</th>\n",
       "      <th>EMAIL</th>\n",
       "      <th>Sales_Agent</th>\n",
       "      <th>Location</th>\n",
       "      <th>Delivery_Mode</th>\n",
       "      <th>Status</th>\n",
       "    </tr>\n",
       "  </thead>\n",
       "  <tbody>\n",
       "    <tr>\n",
       "      <th>count</th>\n",
       "      <td>7422</td>\n",
       "      <td>7422</td>\n",
       "      <td>7422</td>\n",
       "      <td>7422</td>\n",
       "      <td>7422</td>\n",
       "      <td>7422</td>\n",
       "      <td>7422</td>\n",
       "      <td>7422</td>\n",
       "      <td>7422</td>\n",
       "    </tr>\n",
       "    <tr>\n",
       "      <th>unique</th>\n",
       "      <td>6752</td>\n",
       "      <td>30</td>\n",
       "      <td>26</td>\n",
       "      <td>487</td>\n",
       "      <td>883</td>\n",
       "      <td>13</td>\n",
       "      <td>18</td>\n",
       "      <td>5</td>\n",
       "      <td>11</td>\n",
       "    </tr>\n",
       "    <tr>\n",
       "      <th>top</th>\n",
       "      <td>26-09-2018 11:30</td>\n",
       "      <td>18</td>\n",
       "      <td>Call</td>\n",
       "      <td></td>\n",
       "      <td>#VALUE!</td>\n",
       "      <td>Sales-Agent-4</td>\n",
       "      <td>Other Locations</td>\n",
       "      <td>Mode-5</td>\n",
       "      <td>Junk Lead</td>\n",
       "    </tr>\n",
       "    <tr>\n",
       "      <th>freq</th>\n",
       "      <td>4</td>\n",
       "      <td>1711</td>\n",
       "      <td>2547</td>\n",
       "      <td>1810</td>\n",
       "      <td>1701</td>\n",
       "      <td>1500</td>\n",
       "      <td>2500</td>\n",
       "      <td>2975</td>\n",
       "      <td>1536</td>\n",
       "    </tr>\n",
       "  </tbody>\n",
       "</table>\n",
       "</div>"
      ],
      "text/plain": [
       "                 Created Product_ID Source Mobile    EMAIL    Sales_Agent  \\\n",
       "count               7422       7422   7422   7422     7422           7422   \n",
       "unique              6752         30     26    487      883             13   \n",
       "top     26-09-2018 11:30         18   Call         #VALUE!  Sales-Agent-4   \n",
       "freq                   4       1711   2547   1810     1701           1500   \n",
       "\n",
       "               Location Delivery_Mode     Status  \n",
       "count              7422          7422       7422  \n",
       "unique               18             5         11  \n",
       "top     Other Locations        Mode-5  Junk Lead  \n",
       "freq               2500          2975       1536  "
      ]
     },
     "execution_count": 11,
     "metadata": {},
     "output_type": "execute_result"
    }
   ],
   "source": [
    "sales_df.describe()"
   ]
  },
  {
   "cell_type": "code",
   "execution_count": 12,
   "id": "6783359b",
   "metadata": {},
   "outputs": [
    {
     "data": {
      "text/plain": [
       "Created          6752\n",
       "Product_ID         30\n",
       "Source             26\n",
       "Mobile            487\n",
       "EMAIL             883\n",
       "Sales_Agent        13\n",
       "Location           18\n",
       "Delivery_Mode       5\n",
       "Status             11\n",
       "dtype: int64"
      ]
     },
     "execution_count": 12,
     "metadata": {},
     "output_type": "execute_result"
    }
   ],
   "source": [
    "sales_df.nunique()"
   ]
  },
  {
   "cell_type": "code",
   "execution_count": 13,
   "id": "565889ac",
   "metadata": {},
   "outputs": [
    {
     "data": {
      "text/html": [
       "<div>\n",
       "<style scoped>\n",
       "    .dataframe tbody tr th:only-of-type {\n",
       "        vertical-align: middle;\n",
       "    }\n",
       "\n",
       "    .dataframe tbody tr th {\n",
       "        vertical-align: top;\n",
       "    }\n",
       "\n",
       "    .dataframe thead th {\n",
       "        text-align: right;\n",
       "    }\n",
       "</style>\n",
       "<table border=\"1\" class=\"dataframe\">\n",
       "  <thead>\n",
       "    <tr style=\"text-align: right;\">\n",
       "      <th></th>\n",
       "      <th>Created</th>\n",
       "      <th>Product_ID</th>\n",
       "      <th>Source</th>\n",
       "      <th>Mobile</th>\n",
       "      <th>EMAIL</th>\n",
       "      <th>Sales_Agent</th>\n",
       "      <th>Location</th>\n",
       "      <th>Delivery_Mode</th>\n",
       "      <th>Status</th>\n",
       "    </tr>\n",
       "  </thead>\n",
       "  <tbody>\n",
       "    <tr>\n",
       "      <th>count</th>\n",
       "      <td>7422</td>\n",
       "      <td>7422</td>\n",
       "      <td>7422</td>\n",
       "      <td>7422</td>\n",
       "      <td>7422</td>\n",
       "      <td>7422</td>\n",
       "      <td>7422</td>\n",
       "      <td>7422</td>\n",
       "      <td>7422</td>\n",
       "    </tr>\n",
       "    <tr>\n",
       "      <th>unique</th>\n",
       "      <td>6752</td>\n",
       "      <td>30</td>\n",
       "      <td>26</td>\n",
       "      <td>487</td>\n",
       "      <td>883</td>\n",
       "      <td>13</td>\n",
       "      <td>18</td>\n",
       "      <td>5</td>\n",
       "      <td>11</td>\n",
       "    </tr>\n",
       "    <tr>\n",
       "      <th>top</th>\n",
       "      <td>26-09-2018 11:30</td>\n",
       "      <td>18</td>\n",
       "      <td>Call</td>\n",
       "      <td></td>\n",
       "      <td>#VALUE!</td>\n",
       "      <td>Sales-Agent-4</td>\n",
       "      <td>Other Locations</td>\n",
       "      <td>Mode-5</td>\n",
       "      <td>Junk Lead</td>\n",
       "    </tr>\n",
       "    <tr>\n",
       "      <th>freq</th>\n",
       "      <td>4</td>\n",
       "      <td>1711</td>\n",
       "      <td>2547</td>\n",
       "      <td>1810</td>\n",
       "      <td>1701</td>\n",
       "      <td>1500</td>\n",
       "      <td>2500</td>\n",
       "      <td>2975</td>\n",
       "      <td>1536</td>\n",
       "    </tr>\n",
       "  </tbody>\n",
       "</table>\n",
       "</div>"
      ],
      "text/plain": [
       "                 Created Product_ID Source Mobile    EMAIL    Sales_Agent  \\\n",
       "count               7422       7422   7422   7422     7422           7422   \n",
       "unique              6752         30     26    487      883             13   \n",
       "top     26-09-2018 11:30         18   Call         #VALUE!  Sales-Agent-4   \n",
       "freq                   4       1711   2547   1810     1701           1500   \n",
       "\n",
       "               Location Delivery_Mode     Status  \n",
       "count              7422          7422       7422  \n",
       "unique               18             5         11  \n",
       "top     Other Locations        Mode-5  Junk Lead  \n",
       "freq               2500          2975       1536  "
      ]
     },
     "execution_count": 13,
     "metadata": {},
     "output_type": "execute_result"
    }
   ],
   "source": [
    "sales_df.describe(include='object')"
   ]
  },
  {
   "cell_type": "markdown",
   "id": "fb06b2e4",
   "metadata": {},
   "source": [
    "# Data Preprocessing and Feature Engineering"
   ]
  },
  {
   "cell_type": "code",
   "execution_count": 14,
   "id": "19c175ad",
   "metadata": {},
   "outputs": [],
   "source": [
    "# Drop unnecessary columns\n",
    "sales_df.drop(['Created', 'Mobile', 'EMAIL'], axis=1, inplace=True)"
   ]
  },
  {
   "cell_type": "code",
   "execution_count": 15,
   "id": "3fe1d8d3",
   "metadata": {},
   "outputs": [],
   "source": [
    "sales_df.replace('',pd.NA,inplace=True)"
   ]
  },
  {
   "cell_type": "code",
   "execution_count": 16,
   "id": "3fe37ab7",
   "metadata": {},
   "outputs": [
    {
     "data": {
      "text/plain": [
       "Product_ID       58\n",
       "Source           17\n",
       "Sales_Agent      23\n",
       "Location         58\n",
       "Delivery_Mode     0\n",
       "Status            0\n",
       "dtype: int64"
      ]
     },
     "execution_count": 16,
     "metadata": {},
     "output_type": "execute_result"
    }
   ],
   "source": [
    "sales_df.isnull().sum()"
   ]
  },
  {
   "cell_type": "code",
   "execution_count": 17,
   "id": "7d8d3414",
   "metadata": {},
   "outputs": [],
   "source": [
    "columns_to_fill = ['Product_ID', 'Source', 'Sales_Agent', 'Location']\n",
    "\n",
    "for column in columns_to_fill:\n",
    "    sales_df[column].fillna(sales_df[column].mode()[0], inplace=True)"
   ]
  },
  {
   "cell_type": "code",
   "execution_count": 18,
   "id": "f0002f6a",
   "metadata": {},
   "outputs": [
    {
     "data": {
      "text/plain": [
       "Product_ID       0\n",
       "Source           0\n",
       "Sales_Agent      0\n",
       "Location         0\n",
       "Delivery_Mode    0\n",
       "Status           0\n",
       "dtype: int64"
      ]
     },
     "execution_count": 18,
     "metadata": {},
     "output_type": "execute_result"
    }
   ],
   "source": [
    "sales_df.isnull().sum()"
   ]
  },
  {
   "cell_type": "markdown",
   "id": "042d212b",
   "metadata": {},
   "source": [
    "#### Defining the Source"
   ]
  },
  {
   "cell_type": "code",
   "execution_count": 19,
   "id": "9f9f593d",
   "metadata": {},
   "outputs": [
    {
     "data": {
      "text/plain": [
       "array(['Website', 'Call', 'Live Chat-Google Organic', 'Live Chat-Direct',\n",
       "       'By Recommendation', 'Customer Referral', 'Live Chat-Blog',\n",
       "       'Live Chat -PPC', 'Live Chat-Google Ads',\n",
       "       'Live Chat-Adwords Remarketing', 'E-Mail Message',\n",
       "       'Existing Client', 'Live Chat-CPC', 'Existing Customer',\n",
       "       'Live Chat-Quora', 'US Website', 'Just Dial', 'Campaign', 'Other',\n",
       "       'E-mail Campaign', 'CRM form', 'SMS Campaign', 'Personal Contact',\n",
       "       'Live Chat-Youtube', 'Live Chat-Justdial'], dtype=object)"
      ]
     },
     "execution_count": 19,
     "metadata": {},
     "output_type": "execute_result"
    }
   ],
   "source": [
    "sales_df['Source'].unique()"
   ]
  },
  {
   "cell_type": "code",
   "execution_count": 20,
   "id": "540e9ba0",
   "metadata": {},
   "outputs": [],
   "source": [
    "sales_df['Source'].replace(['Live Chat-Google Organic', 'Live Chat-Direct', 'Live Chat-Blog', 'Live Chat -PPC',\n",
    "                            'Live Chat-Google Ads', 'Live Chat-Adwords Remarketing', 'Live Chat-Quora', 'Live Chat-Youtube',\n",
    "                            'Live Chat-Justdial','Live Chat-CPC'], 'Live Chat',inplace=True)\n",
    "\n",
    "sales_df['Source'].replace(['Existing Client', 'CRM form', 'Personal Contact'], 'Existing Customer', inplace=True)\n",
    "\n",
    "sales_df['Source'].replace(['By Recommendation', 'Customer Referral'], 'Customer Referral', inplace=True)\n",
    "\n",
    "sales_df['Source'].replace(['US Website', 'Just Dial'], 'Website', inplace=True)\n",
    "\n",
    "sales_df['Source'].replace(['E-mail Campaign', 'SMS Campaign', 'E-Mail Message', 'Other'], 'Campaign', inplace=True)"
   ]
  },
  {
   "cell_type": "code",
   "execution_count": 21,
   "id": "25c9b16d",
   "metadata": {},
   "outputs": [
    {
     "data": {
      "text/plain": [
       "array(['Website', 'Call', 'Live Chat', 'Customer Referral', 'Campaign',\n",
       "       'Existing Customer'], dtype=object)"
      ]
     },
     "execution_count": 21,
     "metadata": {},
     "output_type": "execute_result"
    }
   ],
   "source": [
    "sales_df['Source'].unique()"
   ]
  },
  {
   "cell_type": "markdown",
   "id": "785f5fe9",
   "metadata": {},
   "source": [
    "#### Defining the Location"
   ]
  },
  {
   "cell_type": "code",
   "execution_count": 22,
   "id": "e6b476a2",
   "metadata": {},
   "outputs": [
    {
     "data": {
      "text/plain": [
       "array(['Other Locations', 'Bangalore', 'UAE', 'Trivandrum', 'Hyderabad',\n",
       "       'Chennai', 'UK', 'USA', 'Delhi', 'Mumbai', 'Kolkata', 'Singapore',\n",
       "       'Pune', 'AUSTRALIA', 'EUROPE', 'Malaysia', 'Howrah'], dtype=object)"
      ]
     },
     "execution_count": 22,
     "metadata": {},
     "output_type": "execute_result"
    }
   ],
   "source": [
    "sales_df['Location'].unique()"
   ]
  },
  {
   "cell_type": "code",
   "execution_count": 23,
   "id": "987f69a8",
   "metadata": {},
   "outputs": [],
   "source": [
    "sales_df['Location'].replace(['UK', 'USA', 'UAE', 'Singapore', 'AUSTRALIA', 'EUROPE', 'Malaysia'], 'Foreign', inplace=True)\n",
    "\n",
    "sales_df['Location'].replace(['Bangalore', 'Trivandrum', 'Hyderabad', 'Chennai', 'Delhi', 'Mumbai', 'Kolkata', 'Pune',\n",
    "                              'Howrah'],'India', inplace=True)"
   ]
  },
  {
   "cell_type": "code",
   "execution_count": 24,
   "id": "bdc64ad0",
   "metadata": {},
   "outputs": [
    {
     "data": {
      "text/plain": [
       "array(['Other Locations', 'India', 'Foreign'], dtype=object)"
      ]
     },
     "execution_count": 24,
     "metadata": {},
     "output_type": "execute_result"
    }
   ],
   "source": [
    "sales_df['Location'].unique()"
   ]
  },
  {
   "cell_type": "markdown",
   "id": "576c19b0",
   "metadata": {},
   "source": [
    "#### Defining the Status as 'High' or 'Low'"
   ]
  },
  {
   "cell_type": "code",
   "execution_count": 25,
   "id": "b66b3abb",
   "metadata": {},
   "outputs": [
    {
     "data": {
      "text/plain": [
       "array(['Open', 'Potential', 'In Progress Positive', 'Not Responding',\n",
       "       'Just Enquiry', 'Junk Lead', 'CONVERTED', 'In Progress Negative',\n",
       "       'LOST', 'Long Term', 'converted'], dtype=object)"
      ]
     },
     "execution_count": 25,
     "metadata": {},
     "output_type": "execute_result"
    }
   ],
   "source": [
    "sales_df['Status'].unique()"
   ]
  },
  {
   "cell_type": "code",
   "execution_count": 26,
   "id": "7df83e89",
   "metadata": {},
   "outputs": [],
   "source": [
    "# High potential-> 1 and Low potential-> 0\n",
    "sales_df['Status'].replace(['Potential', 'In Progress Positive', 'CONVERTED', 'Open',  'Long Term', 'converted'],\n",
    "                           '1',inplace=True)\n",
    "\n",
    "sales_df['Status'].replace(['Not Responding', 'Just Enquiry','In Progress Negative', 'LOST', 'Junk Lead'], \n",
    "                           '0',inplace=True)"
   ]
  },
  {
   "cell_type": "code",
   "execution_count": 27,
   "id": "f7521969",
   "metadata": {},
   "outputs": [
    {
     "data": {
      "text/plain": [
       "array(['1', '0'], dtype=object)"
      ]
     },
     "execution_count": 27,
     "metadata": {},
     "output_type": "execute_result"
    }
   ],
   "source": [
    "sales_df['Status'].unique()"
   ]
  },
  {
   "cell_type": "code",
   "execution_count": 28,
   "id": "bc00b3be",
   "metadata": {},
   "outputs": [],
   "source": [
    "sales_df['Product_ID'] = sales_df['Product_ID'].astype(int)\n",
    "\n",
    "sales_df['Status'] = sales_df['Status'].astype(int)"
   ]
  },
  {
   "cell_type": "code",
   "execution_count": 29,
   "id": "f214d585",
   "metadata": {},
   "outputs": [
    {
     "name": "stdout",
     "output_type": "stream",
     "text": [
      "<class 'pandas.core.frame.DataFrame'>\n",
      "RangeIndex: 7422 entries, 0 to 7421\n",
      "Data columns (total 6 columns):\n",
      " #   Column         Non-Null Count  Dtype \n",
      "---  ------         --------------  ----- \n",
      " 0   Product_ID     7422 non-null   int32 \n",
      " 1   Source         7422 non-null   object\n",
      " 2   Sales_Agent    7422 non-null   object\n",
      " 3   Location       7422 non-null   object\n",
      " 4   Delivery_Mode  7422 non-null   object\n",
      " 5   Status         7422 non-null   int32 \n",
      "dtypes: int32(2), object(4)\n",
      "memory usage: 290.1+ KB\n"
     ]
    }
   ],
   "source": [
    "sales_df.info()"
   ]
  },
  {
   "cell_type": "code",
   "execution_count": 30,
   "id": "a86d559d",
   "metadata": {},
   "outputs": [
    {
     "data": {
      "text/html": [
       "<div>\n",
       "<style scoped>\n",
       "    .dataframe tbody tr th:only-of-type {\n",
       "        vertical-align: middle;\n",
       "    }\n",
       "\n",
       "    .dataframe tbody tr th {\n",
       "        vertical-align: top;\n",
       "    }\n",
       "\n",
       "    .dataframe thead th {\n",
       "        text-align: right;\n",
       "    }\n",
       "</style>\n",
       "<table border=\"1\" class=\"dataframe\">\n",
       "  <thead>\n",
       "    <tr style=\"text-align: right;\">\n",
       "      <th></th>\n",
       "      <th>Product_ID</th>\n",
       "      <th>Source</th>\n",
       "      <th>Sales_Agent</th>\n",
       "      <th>Location</th>\n",
       "      <th>Delivery_Mode</th>\n",
       "      <th>Status</th>\n",
       "    </tr>\n",
       "  </thead>\n",
       "  <tbody>\n",
       "    <tr>\n",
       "      <th>0</th>\n",
       "      <td>18</td>\n",
       "      <td>Website</td>\n",
       "      <td>Sales-Agent-11</td>\n",
       "      <td>Other Locations</td>\n",
       "      <td>Mode-5</td>\n",
       "      <td>1</td>\n",
       "    </tr>\n",
       "    <tr>\n",
       "      <th>1</th>\n",
       "      <td>18</td>\n",
       "      <td>Website</td>\n",
       "      <td>Sales-Agent-10</td>\n",
       "      <td>Other Locations</td>\n",
       "      <td>Mode-5</td>\n",
       "      <td>1</td>\n",
       "    </tr>\n",
       "    <tr>\n",
       "      <th>2</th>\n",
       "      <td>18</td>\n",
       "      <td>Website</td>\n",
       "      <td>Sales-Agent-10</td>\n",
       "      <td>Other Locations</td>\n",
       "      <td>Mode-5</td>\n",
       "      <td>1</td>\n",
       "    </tr>\n",
       "    <tr>\n",
       "      <th>3</th>\n",
       "      <td>18</td>\n",
       "      <td>Website</td>\n",
       "      <td>Sales-Agent-10</td>\n",
       "      <td>Other Locations</td>\n",
       "      <td>Mode-5</td>\n",
       "      <td>1</td>\n",
       "    </tr>\n",
       "    <tr>\n",
       "      <th>4</th>\n",
       "      <td>18</td>\n",
       "      <td>Website</td>\n",
       "      <td>Sales-Agent-10</td>\n",
       "      <td>Other Locations</td>\n",
       "      <td>Mode-5</td>\n",
       "      <td>1</td>\n",
       "    </tr>\n",
       "    <tr>\n",
       "      <th>...</th>\n",
       "      <td>...</td>\n",
       "      <td>...</td>\n",
       "      <td>...</td>\n",
       "      <td>...</td>\n",
       "      <td>...</td>\n",
       "      <td>...</td>\n",
       "    </tr>\n",
       "    <tr>\n",
       "      <th>7417</th>\n",
       "      <td>9</td>\n",
       "      <td>Call</td>\n",
       "      <td>Sales-Agent-6</td>\n",
       "      <td>India</td>\n",
       "      <td>Mode-4</td>\n",
       "      <td>0</td>\n",
       "    </tr>\n",
       "    <tr>\n",
       "      <th>7418</th>\n",
       "      <td>15</td>\n",
       "      <td>Call</td>\n",
       "      <td>Sales-Agent-12</td>\n",
       "      <td>Other Locations</td>\n",
       "      <td>Mode-5</td>\n",
       "      <td>0</td>\n",
       "    </tr>\n",
       "    <tr>\n",
       "      <th>7419</th>\n",
       "      <td>5</td>\n",
       "      <td>Live Chat</td>\n",
       "      <td>Sales-Agent-11</td>\n",
       "      <td>India</td>\n",
       "      <td>Mode-1</td>\n",
       "      <td>0</td>\n",
       "    </tr>\n",
       "    <tr>\n",
       "      <th>7420</th>\n",
       "      <td>21</td>\n",
       "      <td>Existing Customer</td>\n",
       "      <td>Sales-Agent-4</td>\n",
       "      <td>Other Locations</td>\n",
       "      <td>Mode-1</td>\n",
       "      <td>0</td>\n",
       "    </tr>\n",
       "    <tr>\n",
       "      <th>7421</th>\n",
       "      <td>25</td>\n",
       "      <td>Website</td>\n",
       "      <td>Sales-Agent-3</td>\n",
       "      <td>India</td>\n",
       "      <td>Mode-1</td>\n",
       "      <td>1</td>\n",
       "    </tr>\n",
       "  </tbody>\n",
       "</table>\n",
       "<p>7422 rows × 6 columns</p>\n",
       "</div>"
      ],
      "text/plain": [
       "      Product_ID             Source     Sales_Agent         Location  \\\n",
       "0             18            Website  Sales-Agent-11  Other Locations   \n",
       "1             18            Website  Sales-Agent-10  Other Locations   \n",
       "2             18            Website  Sales-Agent-10  Other Locations   \n",
       "3             18            Website  Sales-Agent-10  Other Locations   \n",
       "4             18            Website  Sales-Agent-10  Other Locations   \n",
       "...          ...                ...             ...              ...   \n",
       "7417           9               Call   Sales-Agent-6            India   \n",
       "7418          15               Call  Sales-Agent-12  Other Locations   \n",
       "7419           5          Live Chat  Sales-Agent-11            India   \n",
       "7420          21  Existing Customer   Sales-Agent-4  Other Locations   \n",
       "7421          25            Website   Sales-Agent-3            India   \n",
       "\n",
       "     Delivery_Mode  Status  \n",
       "0           Mode-5       1  \n",
       "1           Mode-5       1  \n",
       "2           Mode-5       1  \n",
       "3           Mode-5       1  \n",
       "4           Mode-5       1  \n",
       "...            ...     ...  \n",
       "7417        Mode-4       0  \n",
       "7418        Mode-5       0  \n",
       "7419        Mode-1       0  \n",
       "7420        Mode-1       0  \n",
       "7421        Mode-1       1  \n",
       "\n",
       "[7422 rows x 6 columns]"
      ]
     },
     "execution_count": 30,
     "metadata": {},
     "output_type": "execute_result"
    }
   ],
   "source": [
    "sales_df"
   ]
  },
  {
   "cell_type": "markdown",
   "id": "ba3d50c4",
   "metadata": {},
   "source": [
    "# Exploratory Data Analysis"
   ]
  },
  {
   "cell_type": "markdown",
   "id": "b940a0e1",
   "metadata": {},
   "source": [
    "> ### Univariate Analysis"
   ]
  },
  {
   "cell_type": "code",
   "execution_count": 31,
   "id": "72de6499",
   "metadata": {},
   "outputs": [
    {
     "data": {
      "text/plain": [
       "Index(['Product_ID', 'Status'], dtype='object')"
      ]
     },
     "execution_count": 31,
     "metadata": {},
     "output_type": "execute_result"
    }
   ],
   "source": [
    "numerical_df = sales_df.select_dtypes(include=['int32', 'float32'])\n",
    "\n",
    "numerical_df.columns"
   ]
  },
  {
   "cell_type": "code",
   "execution_count": 32,
   "id": "e1ed5a50",
   "metadata": {},
   "outputs": [
    {
     "data": {
      "text/plain": [
       "Index(['Source', 'Sales_Agent', 'Location', 'Delivery_Mode'], dtype='object')"
      ]
     },
     "execution_count": 32,
     "metadata": {},
     "output_type": "execute_result"
    }
   ],
   "source": [
    "categorical_df = sales_df.select_dtypes(include=['object'])\n",
    "\n",
    "categorical_df.columns"
   ]
  },
  {
   "cell_type": "code",
   "execution_count": 33,
   "id": "77373b11",
   "metadata": {},
   "outputs": [],
   "source": [
    "def categorical_univariate_analysis(discrete_data):\n",
    "    for col_name in discrete_data:\n",
    "        print(\"*\"*10, col_name, \"*\"*10)\n",
    "        print(discrete_data[col_name].agg(['count', 'nunique', 'unique']))\n",
    "        print('Value Counts: \\n', discrete_data[col_name].value_counts())\n",
    "        print()"
   ]
  },
  {
   "cell_type": "code",
   "execution_count": 34,
   "id": "653a9ee9",
   "metadata": {},
   "outputs": [
    {
     "name": "stdout",
     "output_type": "stream",
     "text": [
      "********** Source **********\n",
      "count                                                   7422\n",
      "nunique                                                    6\n",
      "unique     [Website, Call, Live Chat, Customer Referral, ...\n",
      "Name: Source, dtype: object\n",
      "Value Counts: \n",
      " Source\n",
      "Live Chat            2677\n",
      "Call                 2564\n",
      "Website              1787\n",
      "Customer Referral     212\n",
      "Existing Customer     146\n",
      "Campaign               36\n",
      "Name: count, dtype: int64\n",
      "\n",
      "********** Sales_Agent **********\n",
      "count                                                   7422\n",
      "nunique                                                   12\n",
      "unique     [Sales-Agent-11, Sales-Agent-10, Sales-Agent-3...\n",
      "Name: Sales_Agent, dtype: object\n",
      "Value Counts: \n",
      " Sales_Agent\n",
      "Sales-Agent-4     1523\n",
      "Sales-Agent-11    1420\n",
      "Sales-Agent-5     1190\n",
      "Sales-Agent-9      879\n",
      "Sales-Agent-3      781\n",
      "Sales-Agent-7      736\n",
      "Sales-Agent-2      389\n",
      "Sales-Agent-12     269\n",
      "Sales-Agent-6      114\n",
      "Sales-Agent-8       68\n",
      "Sales-Agent-10      49\n",
      "Sales-Agent-1        4\n",
      "Name: count, dtype: int64\n",
      "\n",
      "********** Location **********\n",
      "count                                   7422\n",
      "nunique                                    3\n",
      "unique     [Other Locations, India, Foreign]\n",
      "Name: Location, dtype: object\n",
      "Value Counts: \n",
      " Location\n",
      "India              4650\n",
      "Other Locations    2558\n",
      "Foreign             214\n",
      "Name: count, dtype: int64\n",
      "\n",
      "********** Delivery_Mode **********\n",
      "count                                          7422\n",
      "nunique                                           5\n",
      "unique     [Mode-5, Mode-1, Mode-3, Mode-2, Mode-4]\n",
      "Name: Delivery_Mode, dtype: object\n",
      "Value Counts: \n",
      " Delivery_Mode\n",
      "Mode-5    2975\n",
      "Mode-1    2627\n",
      "Mode-3    1688\n",
      "Mode-4     121\n",
      "Mode-2      11\n",
      "Name: count, dtype: int64\n",
      "\n"
     ]
    }
   ],
   "source": [
    "categorical_univariate_analysis(categorical_df)"
   ]
  },
  {
   "cell_type": "code",
   "execution_count": 35,
   "id": "6059fb23",
   "metadata": {},
   "outputs": [
    {
     "data": {
      "image/png": "[encoded data removed]",
      "text/plain": [
       "<Figure size 1000x600 with 1 Axes>"
      ]
     },
     "metadata": {},
     "output_type": "display_data"
    }
   ],
   "source": [
    "# Distribution of Source\n",
    "plt.figure(figsize=(10, 6))\n",
    "sns.countplot(x='Source', data=categorical_df)\n",
    "plt.show()"
   ]
  },
  {
   "cell_type": "code",
   "execution_count": 36,
   "id": "4f7c0bbe",
   "metadata": {},
   "outputs": [
    {
     "data": {
      "text/plain": [
       "array([[<Axes: ylabel='Frequency'>, <Axes: ylabel='Frequency'>]],\n",
       "      dtype=object)"
      ]
     },
     "execution_count": 36,
     "metadata": {},
     "output_type": "execute_result"
    },
    {
     "data": {
      "image/png": "[encoded data removed]",
      "text/plain": [
       "<Figure size 900x300 with 2 Axes>"
      ]
     },
     "metadata": {},
     "output_type": "display_data"
    }
   ],
   "source": [
    "numerical_df.plot(kind='hist', subplots=True, layout=(1, 2), figsize=(9, 3))"
   ]
  },
  {
   "cell_type": "markdown",
   "id": "5b95eb2a",
   "metadata": {},
   "source": [
    "> ### Bivariate Analysis"
   ]
  },
  {
   "cell_type": "code",
   "execution_count": 37,
   "id": "4e1acee2",
   "metadata": {},
   "outputs": [
    {
     "data": {
      "text/plain": [
       "Index(['Product_ID', 'Status'], dtype='object')"
      ]
     },
     "execution_count": 37,
     "metadata": {},
     "output_type": "execute_result"
    }
   ],
   "source": [
    "numerical_df.columns"
   ]
  },
  {
   "cell_type": "code",
   "execution_count": 38,
   "id": "aaaaaa44",
   "metadata": {},
   "outputs": [
    {
     "data": {
      "text/plain": [
       "Index(['Source', 'Sales_Agent', 'Location', 'Delivery_Mode'], dtype='object')"
      ]
     },
     "execution_count": 38,
     "metadata": {},
     "output_type": "execute_result"
    }
   ],
   "source": [
    "categorical_df.columns"
   ]
  },
  {
   "cell_type": "code",
   "execution_count": 39,
   "id": "931c510e",
   "metadata": {},
   "outputs": [
    {
     "data": {
      "text/html": [
       "<div>\n",
       "<style scoped>\n",
       "    .dataframe tbody tr th:only-of-type {\n",
       "        vertical-align: middle;\n",
       "    }\n",
       "\n",
       "    .dataframe tbody tr th {\n",
       "        vertical-align: top;\n",
       "    }\n",
       "\n",
       "    .dataframe thead th {\n",
       "        text-align: right;\n",
       "    }\n",
       "</style>\n",
       "<table border=\"1\" class=\"dataframe\">\n",
       "  <thead>\n",
       "    <tr style=\"text-align: right;\">\n",
       "      <th>Location</th>\n",
       "      <th>Foreign</th>\n",
       "      <th>India</th>\n",
       "      <th>Other Locations</th>\n",
       "    </tr>\n",
       "    <tr>\n",
       "      <th>Delivery_Mode</th>\n",
       "      <th></th>\n",
       "      <th></th>\n",
       "      <th></th>\n",
       "    </tr>\n",
       "  </thead>\n",
       "  <tbody>\n",
       "    <tr>\n",
       "      <th>Mode-1</th>\n",
       "      <td>14</td>\n",
       "      <td>2225</td>\n",
       "      <td>388</td>\n",
       "    </tr>\n",
       "    <tr>\n",
       "      <th>Mode-2</th>\n",
       "      <td>2</td>\n",
       "      <td>4</td>\n",
       "      <td>5</td>\n",
       "    </tr>\n",
       "    <tr>\n",
       "      <th>Mode-3</th>\n",
       "      <td>117</td>\n",
       "      <td>1024</td>\n",
       "      <td>547</td>\n",
       "    </tr>\n",
       "    <tr>\n",
       "      <th>Mode-4</th>\n",
       "      <td>11</td>\n",
       "      <td>89</td>\n",
       "      <td>21</td>\n",
       "    </tr>\n",
       "    <tr>\n",
       "      <th>Mode-5</th>\n",
       "      <td>70</td>\n",
       "      <td>1308</td>\n",
       "      <td>1597</td>\n",
       "    </tr>\n",
       "  </tbody>\n",
       "</table>\n",
       "</div>"
      ],
      "text/plain": [
       "Location       Foreign  India  Other Locations\n",
       "Delivery_Mode                                 \n",
       "Mode-1              14   2225              388\n",
       "Mode-2               2      4                5\n",
       "Mode-3             117   1024              547\n",
       "Mode-4              11     89               21\n",
       "Mode-5              70   1308             1597"
      ]
     },
     "execution_count": 39,
     "metadata": {},
     "output_type": "execute_result"
    }
   ],
   "source": [
    "pd.crosstab(categorical_df['Delivery_Mode'], categorical_df['Location'])"
   ]
  },
  {
   "cell_type": "code",
   "execution_count": 40,
   "id": "08670142",
   "metadata": {},
   "outputs": [
    {
     "data": {
      "text/plain": [
       "<Axes: xlabel='Delivery_Mode'>"
      ]
     },
     "execution_count": 40,
     "metadata": {},
     "output_type": "execute_result"
    },
    {
     "data": {
      "image/png": "[encoded data removed]",
      "text/plain": [
       "<Figure size 640x480 with 1 Axes>"
      ]
     },
     "metadata": {},
     "output_type": "display_data"
    }
   ],
   "source": [
    "tab = pd.crosstab(categorical_df['Delivery_Mode'], categorical_df['Location'], normalize='index')\n",
    "\n",
    "tab.plot(kind='bar')"
   ]
  },
  {
   "cell_type": "code",
   "execution_count": 41,
   "id": "d6afaf8e",
   "metadata": {},
   "outputs": [
    {
     "data": {
      "text/plain": [
       "<Axes: ylabel='Delivery_Mode'>"
      ]
     },
     "execution_count": 41,
     "metadata": {},
     "output_type": "execute_result"
    },
    {
     "data": {
      "image/png": "[encoded data removed]",
      "text/plain": [
       "<Figure size 640x480 with 1 Axes>"
      ]
     },
     "metadata": {},
     "output_type": "display_data"
    }
   ],
   "source": [
    "tab.plot(kind='barh', stacked=True)"
   ]
  },
  {
   "cell_type": "code",
   "execution_count": 42,
   "id": "fe094f2c",
   "metadata": {},
   "outputs": [
    {
     "data": {
      "text/html": [
       "<div>\n",
       "<style scoped>\n",
       "    .dataframe tbody tr th:only-of-type {\n",
       "        vertical-align: middle;\n",
       "    }\n",
       "\n",
       "    .dataframe tbody tr th {\n",
       "        vertical-align: top;\n",
       "    }\n",
       "\n",
       "    .dataframe thead th {\n",
       "        text-align: right;\n",
       "    }\n",
       "</style>\n",
       "<table border=\"1\" class=\"dataframe\">\n",
       "  <thead>\n",
       "    <tr style=\"text-align: right;\">\n",
       "      <th></th>\n",
       "      <th>min</th>\n",
       "      <th>max</th>\n",
       "      <th>mean</th>\n",
       "      <th>median</th>\n",
       "    </tr>\n",
       "    <tr>\n",
       "      <th>Location</th>\n",
       "      <th></th>\n",
       "      <th></th>\n",
       "      <th></th>\n",
       "      <th></th>\n",
       "    </tr>\n",
       "  </thead>\n",
       "  <tbody>\n",
       "    <tr>\n",
       "      <th>Foreign</th>\n",
       "      <td>2</td>\n",
       "      <td>27</td>\n",
       "      <td>16.434579</td>\n",
       "      <td>18.0</td>\n",
       "    </tr>\n",
       "    <tr>\n",
       "      <th>India</th>\n",
       "      <td>0</td>\n",
       "      <td>28</td>\n",
       "      <td>16.154839</td>\n",
       "      <td>18.0</td>\n",
       "    </tr>\n",
       "    <tr>\n",
       "      <th>Other Locations</th>\n",
       "      <td>1</td>\n",
       "      <td>27</td>\n",
       "      <td>15.575841</td>\n",
       "      <td>15.0</td>\n",
       "    </tr>\n",
       "  </tbody>\n",
       "</table>\n",
       "</div>"
      ],
      "text/plain": [
       "                 min  max       mean  median\n",
       "Location                                    \n",
       "Foreign            2   27  16.434579    18.0\n",
       "India              0   28  16.154839    18.0\n",
       "Other Locations    1   27  15.575841    15.0"
      ]
     },
     "execution_count": 42,
     "metadata": {},
     "output_type": "execute_result"
    }
   ],
   "source": [
    "group = sales_df.groupby('Location')\n",
    "\n",
    "group['Product_ID'].agg(['min', 'max', 'mean', 'median'])"
   ]
  },
  {
   "cell_type": "code",
   "execution_count": 43,
   "id": "6bc71d70",
   "metadata": {},
   "outputs": [],
   "source": [
    "from sklearn.preprocessing import LabelEncoder\n",
    "\n",
    "categorical = sales_df.describe(include='O')\n",
    "\n",
    "label = LabelEncoder()\n",
    "\n",
    "for feature in categorical.columns:\n",
    "    sales_df[feature]=label.fit_transform(sales_df[feature])"
   ]
  },
  {
   "cell_type": "code",
   "execution_count": 44,
   "id": "66c61e05",
   "metadata": {},
   "outputs": [
    {
     "data": {
      "text/html": [
       "<div>\n",
       "<style scoped>\n",
       "    .dataframe tbody tr th:only-of-type {\n",
       "        vertical-align: middle;\n",
       "    }\n",
       "\n",
       "    .dataframe tbody tr th {\n",
       "        vertical-align: top;\n",
       "    }\n",
       "\n",
       "    .dataframe thead th {\n",
       "        text-align: right;\n",
       "    }\n",
       "</style>\n",
       "<table border=\"1\" class=\"dataframe\">\n",
       "  <thead>\n",
       "    <tr style=\"text-align: right;\">\n",
       "      <th></th>\n",
       "      <th>Product_ID</th>\n",
       "      <th>Source</th>\n",
       "      <th>Sales_Agent</th>\n",
       "      <th>Location</th>\n",
       "      <th>Delivery_Mode</th>\n",
       "      <th>Status</th>\n",
       "    </tr>\n",
       "  </thead>\n",
       "  <tbody>\n",
       "    <tr>\n",
       "      <th>0</th>\n",
       "      <td>18</td>\n",
       "      <td>5</td>\n",
       "      <td>2</td>\n",
       "      <td>2</td>\n",
       "      <td>4</td>\n",
       "      <td>1</td>\n",
       "    </tr>\n",
       "    <tr>\n",
       "      <th>1</th>\n",
       "      <td>18</td>\n",
       "      <td>5</td>\n",
       "      <td>1</td>\n",
       "      <td>2</td>\n",
       "      <td>4</td>\n",
       "      <td>1</td>\n",
       "    </tr>\n",
       "    <tr>\n",
       "      <th>2</th>\n",
       "      <td>18</td>\n",
       "      <td>5</td>\n",
       "      <td>1</td>\n",
       "      <td>2</td>\n",
       "      <td>4</td>\n",
       "      <td>1</td>\n",
       "    </tr>\n",
       "    <tr>\n",
       "      <th>3</th>\n",
       "      <td>18</td>\n",
       "      <td>5</td>\n",
       "      <td>1</td>\n",
       "      <td>2</td>\n",
       "      <td>4</td>\n",
       "      <td>1</td>\n",
       "    </tr>\n",
       "    <tr>\n",
       "      <th>4</th>\n",
       "      <td>18</td>\n",
       "      <td>5</td>\n",
       "      <td>1</td>\n",
       "      <td>2</td>\n",
       "      <td>4</td>\n",
       "      <td>1</td>\n",
       "    </tr>\n",
       "    <tr>\n",
       "      <th>...</th>\n",
       "      <td>...</td>\n",
       "      <td>...</td>\n",
       "      <td>...</td>\n",
       "      <td>...</td>\n",
       "      <td>...</td>\n",
       "      <td>...</td>\n",
       "    </tr>\n",
       "    <tr>\n",
       "      <th>7417</th>\n",
       "      <td>9</td>\n",
       "      <td>0</td>\n",
       "      <td>8</td>\n",
       "      <td>1</td>\n",
       "      <td>3</td>\n",
       "      <td>0</td>\n",
       "    </tr>\n",
       "    <tr>\n",
       "      <th>7418</th>\n",
       "      <td>15</td>\n",
       "      <td>0</td>\n",
       "      <td>3</td>\n",
       "      <td>2</td>\n",
       "      <td>4</td>\n",
       "      <td>0</td>\n",
       "    </tr>\n",
       "    <tr>\n",
       "      <th>7419</th>\n",
       "      <td>5</td>\n",
       "      <td>4</td>\n",
       "      <td>2</td>\n",
       "      <td>1</td>\n",
       "      <td>0</td>\n",
       "      <td>0</td>\n",
       "    </tr>\n",
       "    <tr>\n",
       "      <th>7420</th>\n",
       "      <td>21</td>\n",
       "      <td>3</td>\n",
       "      <td>6</td>\n",
       "      <td>2</td>\n",
       "      <td>0</td>\n",
       "      <td>0</td>\n",
       "    </tr>\n",
       "    <tr>\n",
       "      <th>7421</th>\n",
       "      <td>25</td>\n",
       "      <td>5</td>\n",
       "      <td>5</td>\n",
       "      <td>1</td>\n",
       "      <td>0</td>\n",
       "      <td>1</td>\n",
       "    </tr>\n",
       "  </tbody>\n",
       "</table>\n",
       "<p>7422 rows × 6 columns</p>\n",
       "</div>"
      ],
      "text/plain": [
       "      Product_ID  Source  Sales_Agent  Location  Delivery_Mode  Status\n",
       "0             18       5            2         2              4       1\n",
       "1             18       5            1         2              4       1\n",
       "2             18       5            1         2              4       1\n",
       "3             18       5            1         2              4       1\n",
       "4             18       5            1         2              4       1\n",
       "...          ...     ...          ...       ...            ...     ...\n",
       "7417           9       0            8         1              3       0\n",
       "7418          15       0            3         2              4       0\n",
       "7419           5       4            2         1              0       0\n",
       "7420          21       3            6         2              0       0\n",
       "7421          25       5            5         1              0       1\n",
       "\n",
       "[7422 rows x 6 columns]"
      ]
     },
     "execution_count": 44,
     "metadata": {},
     "output_type": "execute_result"
    }
   ],
   "source": [
    "sales_df"
   ]
  },
  {
   "cell_type": "code",
   "execution_count": 45,
   "id": "10f76223",
   "metadata": {},
   "outputs": [
    {
     "data": {
      "text/html": [
       "<div>\n",
       "<style scoped>\n",
       "    .dataframe tbody tr th:only-of-type {\n",
       "        vertical-align: middle;\n",
       "    }\n",
       "\n",
       "    .dataframe tbody tr th {\n",
       "        vertical-align: top;\n",
       "    }\n",
       "\n",
       "    .dataframe thead th {\n",
       "        text-align: right;\n",
       "    }\n",
       "</style>\n",
       "<table border=\"1\" class=\"dataframe\">\n",
       "  <thead>\n",
       "    <tr style=\"text-align: right;\">\n",
       "      <th></th>\n",
       "      <th>Product_ID</th>\n",
       "      <th>Source</th>\n",
       "      <th>Sales_Agent</th>\n",
       "      <th>Location</th>\n",
       "      <th>Delivery_Mode</th>\n",
       "      <th>Status</th>\n",
       "    </tr>\n",
       "  </thead>\n",
       "  <tbody>\n",
       "    <tr>\n",
       "      <th>Product_ID</th>\n",
       "      <td>1.000000</td>\n",
       "      <td>0.064199</td>\n",
       "      <td>0.002746</td>\n",
       "      <td>-0.046474</td>\n",
       "      <td>-0.033046</td>\n",
       "      <td>0.086057</td>\n",
       "    </tr>\n",
       "    <tr>\n",
       "      <th>Source</th>\n",
       "      <td>0.064199</td>\n",
       "      <td>1.000000</td>\n",
       "      <td>-0.030093</td>\n",
       "      <td>-0.105285</td>\n",
       "      <td>-0.209298</td>\n",
       "      <td>-0.010845</td>\n",
       "    </tr>\n",
       "    <tr>\n",
       "      <th>Sales_Agent</th>\n",
       "      <td>0.002746</td>\n",
       "      <td>-0.030093</td>\n",
       "      <td>1.000000</td>\n",
       "      <td>-0.082935</td>\n",
       "      <td>-0.233541</td>\n",
       "      <td>0.119996</td>\n",
       "    </tr>\n",
       "    <tr>\n",
       "      <th>Location</th>\n",
       "      <td>-0.046474</td>\n",
       "      <td>-0.105285</td>\n",
       "      <td>-0.082935</td>\n",
       "      <td>1.000000</td>\n",
       "      <td>0.304773</td>\n",
       "      <td>-0.276921</td>\n",
       "    </tr>\n",
       "    <tr>\n",
       "      <th>Delivery_Mode</th>\n",
       "      <td>-0.033046</td>\n",
       "      <td>-0.209298</td>\n",
       "      <td>-0.233541</td>\n",
       "      <td>0.304773</td>\n",
       "      <td>1.000000</td>\n",
       "      <td>-0.208119</td>\n",
       "    </tr>\n",
       "    <tr>\n",
       "      <th>Status</th>\n",
       "      <td>0.086057</td>\n",
       "      <td>-0.010845</td>\n",
       "      <td>0.119996</td>\n",
       "      <td>-0.276921</td>\n",
       "      <td>-0.208119</td>\n",
       "      <td>1.000000</td>\n",
       "    </tr>\n",
       "  </tbody>\n",
       "</table>\n",
       "</div>"
      ],
      "text/plain": [
       "               Product_ID    Source  Sales_Agent  Location  Delivery_Mode  \\\n",
       "Product_ID       1.000000  0.064199     0.002746 -0.046474      -0.033046   \n",
       "Source           0.064199  1.000000    -0.030093 -0.105285      -0.209298   \n",
       "Sales_Agent      0.002746 -0.030093     1.000000 -0.082935      -0.233541   \n",
       "Location        -0.046474 -0.105285    -0.082935  1.000000       0.304773   \n",
       "Delivery_Mode   -0.033046 -0.209298    -0.233541  0.304773       1.000000   \n",
       "Status           0.086057 -0.010845     0.119996 -0.276921      -0.208119   \n",
       "\n",
       "                 Status  \n",
       "Product_ID     0.086057  \n",
       "Source        -0.010845  \n",
       "Sales_Agent    0.119996  \n",
       "Location      -0.276921  \n",
       "Delivery_Mode -0.208119  \n",
       "Status         1.000000  "
      ]
     },
     "execution_count": 45,
     "metadata": {},
     "output_type": "execute_result"
    }
   ],
   "source": [
    "sales_df.corr()"
   ]
  },
  {
   "cell_type": "code",
   "execution_count": 46,
   "id": "870dadad",
   "metadata": {},
   "outputs": [
    {
     "data": {
      "image/png": "[encoded data removed]",
      "text/plain": [
       "<Figure size 640x480 with 2 Axes>"
      ]
     },
     "metadata": {},
     "output_type": "display_data"
    }
   ],
   "source": [
    "sns.heatmap(sales_df.corr(),annot=True)\n",
    "plt.show()"
   ]
  },
  {
   "cell_type": "markdown",
   "id": "ca8d0bd2",
   "metadata": {},
   "source": [
    "# ML Model Building"
   ]
  },
  {
   "cell_type": "markdown",
   "id": "5e5f418c",
   "metadata": {},
   "source": [
    "## Identifying Inputs and Output"
   ]
  },
  {
   "cell_type": "code",
   "execution_count": 47,
   "id": "c70e8da8",
   "metadata": {},
   "outputs": [],
   "source": [
    "# Split the data into training and testing sets\n",
    "X = sales_df.drop('Status', axis=1)\n",
    "\n",
    "y = sales_df['Status']"
   ]
  },
  {
   "cell_type": "markdown",
   "id": "d8472bef",
   "metadata": {},
   "source": [
    "## Split data into train and test sets"
   ]
  },
  {
   "cell_type": "code",
   "execution_count": 48,
   "id": "032d7831",
   "metadata": {},
   "outputs": [
    {
     "name": "stdout",
     "output_type": "stream",
     "text": [
      "(5937, 5) (5937,)\n",
      "(1485, 5) (1485,)\n"
     ]
    }
   ],
   "source": [
    "from sklearn.model_selection import train_test_split\n",
    "\n",
    "X_train, X_test, y_train, y_test = train_test_split(X, y, test_size=0.2, random_state=42)\n",
    "\n",
    "print(X_train.shape, y_train.shape)\n",
    "\n",
    "print(X_test.shape, y_test.shape)"
   ]
  },
  {
   "cell_type": "markdown",
   "id": "243e1bec",
   "metadata": {},
   "source": [
    "## Data preprocessing on X_train and X_test"
   ]
  },
  {
   "cell_type": "code",
   "execution_count": 49,
   "id": "8f90cb7a",
   "metadata": {},
   "outputs": [
    {
     "data": {
      "text/plain": [
       "Status\n",
       "0    3601\n",
       "1    2336\n",
       "Name: count, dtype: int64"
      ]
     },
     "execution_count": 49,
     "metadata": {},
     "output_type": "execute_result"
    }
   ],
   "source": [
    "y_train.value_counts()"
   ]
  },
  {
   "cell_type": "code",
   "execution_count": 50,
   "id": "23430623",
   "metadata": {},
   "outputs": [],
   "source": [
    "# Balancing the dataset by using SMOTE oversampling technique\n",
    "from imblearn.over_sampling import SMOTE\n",
    "\n",
    "smote = SMOTE()\n",
    "\n",
    "X_train, y_train = smote.fit_resample(X_train, y_train)"
   ]
  },
  {
   "cell_type": "code",
   "execution_count": 51,
   "id": "615d89e8",
   "metadata": {},
   "outputs": [
    {
     "data": {
      "text/plain": [
       "Status\n",
       "1    3601\n",
       "0    3601\n",
       "Name: count, dtype: int64"
      ]
     },
     "execution_count": 51,
     "metadata": {},
     "output_type": "execute_result"
    }
   ],
   "source": [
    "y_train.value_counts()"
   ]
  },
  {
   "cell_type": "code",
   "execution_count": 52,
   "id": "c1e75bd6",
   "metadata": {},
   "outputs": [],
   "source": [
    "from sklearn.preprocessing import StandardScaler\n",
    "\n",
    "# Scale the features\n",
    "scaler = StandardScaler()\n",
    "\n",
    "X_train_scaled = scaler.fit_transform(X_train)\n",
    "\n",
    "X_test_scaled = scaler.transform(X_test)"
   ]
  },
  {
   "cell_type": "markdown",
   "id": "4cada7ef",
   "metadata": {},
   "source": [
    "## Train and Evaluate the model"
   ]
  },
  {
   "cell_type": "markdown",
   "id": "b17bd49a",
   "metadata": {},
   "source": [
    "> ### Logistic Regression"
   ]
  },
  {
   "cell_type": "code",
   "execution_count": 53,
   "id": "2af448ef",
   "metadata": {},
   "outputs": [
    {
     "name": "stdout",
     "output_type": "stream",
     "text": [
      "Accuracy: 0.6484848484848484\n",
      "F1_Score: 0.612759643916914\n"
     ]
    }
   ],
   "source": [
    "from sklearn.linear_model import LogisticRegression\n",
    "from sklearn.metrics import accuracy_score, f1_score\n",
    "\n",
    "lr_model = LogisticRegression()\n",
    "\n",
    "lr_model.fit(X_train_scaled, y_train)\n",
    "\n",
    "# Predict on the test set\n",
    "y_pred = lr_model.predict(X_test_scaled)\n",
    "\n",
    "accuracy = accuracy_score(y_test, y_pred)\n",
    "f1_score = f1_score(y_test, y_pred)\n",
    "\n",
    "# Evaluate the model\n",
    "print(f\"Accuracy: {accuracy}\")\n",
    "print(\"F1_Score:\", f1_score)"
   ]
  },
  {
   "cell_type": "markdown",
   "id": "c71c6cea",
   "metadata": {},
   "source": [
    "> ### Decision Tree"
   ]
  },
  {
   "cell_type": "code",
   "execution_count": 54,
   "id": "7abefb32",
   "metadata": {},
   "outputs": [
    {
     "name": "stdout",
     "output_type": "stream",
     "text": [
      "Accuracy: 0.694949494949495\n",
      "F1_Score: 0.6098191214470284\n"
     ]
    }
   ],
   "source": [
    "from sklearn.tree import DecisionTreeClassifier\n",
    "from sklearn.metrics import accuracy_score, f1_score\n",
    "\n",
    "dt_model = DecisionTreeClassifier()\n",
    "\n",
    "dt_model.fit(X_train_scaled, y_train)\n",
    "\n",
    "# Predict on the test set\n",
    "y_pred = dt_model.predict(X_test_scaled)\n",
    "\n",
    "accuracy = accuracy_score(y_test, y_pred)\n",
    "f1_score = f1_score(y_test, y_pred)\n",
    "\n",
    "print(f\"Accuracy: {accuracy}\")\n",
    "print(\"F1_Score:\", f1_score)"
   ]
  },
  {
   "cell_type": "markdown",
   "id": "459edf01",
   "metadata": {},
   "source": [
    "> ### Random Forest Classifier"
   ]
  },
  {
   "cell_type": "code",
   "execution_count": 55,
   "id": "cdeb07b4",
   "metadata": {},
   "outputs": [
    {
     "name": "stdout",
     "output_type": "stream",
     "text": [
      "Accuracy: 0.6909090909090909\n",
      "F1_Score: 0.6152556580050295\n"
     ]
    }
   ],
   "source": [
    "from sklearn.ensemble import RandomForestClassifier\n",
    "from sklearn.metrics import accuracy_score, f1_score\n",
    "\n",
    "rf_model = RandomForestClassifier()\n",
    "\n",
    "rf_model.fit(X_train_scaled, y_train)\n",
    "\n",
    "# Predict on the test set\n",
    "y_pred = rf_model.predict(X_test_scaled)\n",
    "\n",
    "accuracy = accuracy_score(y_test, y_pred)\n",
    "f1_score = f1_score(y_test, y_pred)\n",
    "\n",
    "print(f\"Accuracy: {accuracy}\")\n",
    "print(\"F1_Score:\", f1_score)"
   ]
  },
  {
   "cell_type": "markdown",
   "id": "424a0eab",
   "metadata": {},
   "source": [
    "> ### SVM"
   ]
  },
  {
   "cell_type": "code",
   "execution_count": 56,
   "id": "71fba00e",
   "metadata": {},
   "outputs": [
    {
     "name": "stdout",
     "output_type": "stream",
     "text": [
      "Accuracy: 0.6727272727272727\n",
      "F1_Score: 0.6306990881458967\n"
     ]
    }
   ],
   "source": [
    "from sklearn.svm import SVC\n",
    "from sklearn.metrics import accuracy_score, f1_score\n",
    "\n",
    "svm_model = SVC()\n",
    "\n",
    "svm_model.fit(X_train_scaled, y_train)\n",
    "\n",
    "# Predict on the test set\n",
    "y_pred = svm_model.predict(X_test_scaled)\n",
    "\n",
    "accuracy = accuracy_score(y_test, y_pred)\n",
    "f1_score = f1_score(y_test, y_pred)\n",
    "\n",
    "print(f\"Accuracy: {accuracy}\")\n",
    "print(\"F1_Score:\", f1_score)"
   ]
  },
  {
   "cell_type": "markdown",
   "id": "b760e6b4",
   "metadata": {},
   "source": [
    "> ### Bagging"
   ]
  },
  {
   "cell_type": "code",
   "execution_count": 57,
   "id": "15b9be40",
   "metadata": {},
   "outputs": [
    {
     "name": "stdout",
     "output_type": "stream",
     "text": [
      "Accuracy: 0.6909090909090909\n",
      "F1_Score: 0.6234618539786709\n"
     ]
    }
   ],
   "source": [
    "from sklearn.ensemble import BaggingClassifier\n",
    "from sklearn.metrics import accuracy_score, f1_score\n",
    "\n",
    "bag_model = BaggingClassifier()\n",
    "\n",
    "bag_model.fit(X_train_scaled, y_train)\n",
    "\n",
    "# Predict on the test set\n",
    "y_pred = bag_model.predict(X_test_scaled)\n",
    "\n",
    "accuracy = accuracy_score(y_test, y_pred)\n",
    "f1_score = f1_score(y_test, y_pred)\n",
    "\n",
    "print(f\"Accuracy: {accuracy}\")\n",
    "print(\"F1_Score:\", f1_score)"
   ]
  },
  {
   "cell_type": "markdown",
   "id": "ca267052",
   "metadata": {},
   "source": [
    "> ### Gradient Boost"
   ]
  },
  {
   "cell_type": "code",
   "execution_count": 58,
   "id": "5c025634",
   "metadata": {},
   "outputs": [
    {
     "name": "stdout",
     "output_type": "stream",
     "text": [
      "Accuracy: 0.703030303030303\n",
      "F1_Score: 0.6631016042780749\n"
     ]
    }
   ],
   "source": [
    "from sklearn.ensemble import GradientBoostingClassifier\n",
    "from sklearn.metrics import accuracy_score, f1_score\n",
    "\n",
    "gb_model = GradientBoostingClassifier()\n",
    "\n",
    "gb_model.fit(X_train_scaled, y_train)\n",
    "\n",
    "# Predict on the test set\n",
    "y_pred = gb_model.predict(X_test_scaled)\n",
    "\n",
    "accuracy = accuracy_score(y_test, y_pred)\n",
    "f1_score = f1_score(y_test, y_pred)\n",
    "\n",
    "print(f\"Accuracy: {accuracy}\")\n",
    "print(\"F1_Score:\", f1_score)"
   ]
  },
  {
   "cell_type": "markdown",
   "id": "898dd356",
   "metadata": {},
   "source": [
    "> ### Ada Boost"
   ]
  },
  {
   "cell_type": "code",
   "execution_count": 59,
   "id": "47d483f4",
   "metadata": {},
   "outputs": [
    {
     "name": "stdout",
     "output_type": "stream",
     "text": [
      "Accuracy: 0.6760942760942761\n",
      "F1_Score: 0.638617580766341\n"
     ]
    }
   ],
   "source": [
    "from sklearn.ensemble import AdaBoostClassifier\n",
    "from sklearn.metrics import accuracy_score, f1_score\n",
    "\n",
    "ab_model = AdaBoostClassifier()\n",
    "\n",
    "ab_model.fit(X_train_scaled, y_train)\n",
    "\n",
    "# Predict on the test set\n",
    "y_pred = ab_model.predict(X_test_scaled)\n",
    "\n",
    "accuracy = accuracy_score(y_test, y_pred)\n",
    "f1_score = f1_score(y_test, y_pred)\n",
    "\n",
    "print(f\"Accuracy: {accuracy}\")\n",
    "print(\"F1_Score:\", f1_score)"
   ]
  },
  {
   "cell_type": "markdown",
   "id": "715e2a55",
   "metadata": {},
   "source": [
    "> ### XGBoost"
   ]
  },
  {
   "cell_type": "code",
   "execution_count": 60,
   "id": "62d7ecca",
   "metadata": {},
   "outputs": [
    {
     "name": "stdout",
     "output_type": "stream",
     "text": [
      "Accuracy: 0.6996632996632997\n",
      "F1_Score: 0.6356209150326797\n"
     ]
    }
   ],
   "source": [
    "from xgboost import XGBClassifier\n",
    "from sklearn.metrics import accuracy_score, f1_score\n",
    "\n",
    "xgb_model = XGBClassifier(random_state=42)\n",
    "\n",
    "xgb_model.fit(X_train_scaled, y_train)\n",
    "\n",
    "# Predict on the test set\n",
    "y_pred = xgb_model.predict(X_test_scaled)\n",
    "\n",
    "accuracy = accuracy_score(y_test, y_pred)\n",
    "f1_score = f1_score(y_test, y_pred)\n",
    "\n",
    "print(f\"Accuracy: {accuracy}\")\n",
    "print(\"F1_Score:\", f1_score)"
   ]
  },
  {
   "cell_type": "markdown",
   "id": "19e70ccd",
   "metadata": {},
   "source": [
    "## HyperParameter Tuning"
   ]
  },
  {
   "cell_type": "code",
   "execution_count": 61,
   "id": "61a98cec",
   "metadata": {},
   "outputs": [],
   "source": [
    "from sklearn.pipeline import Pipeline\n",
    "\n",
    "from sklearn.linear_model import LogisticRegression\n",
    "from sklearn.tree import DecisionTreeClassifier\n",
    "from sklearn.svm import SVC\n",
    "from sklearn.ensemble import RandomForestClassifier, BaggingClassifier, GradientBoostingClassifier, AdaBoostClassifier\n",
    "from xgboost import XGBClassifier\n",
    "\n",
    "from sklearn.preprocessing import StandardScaler\n",
    "from sklearn.metrics import accuracy_score, f1_score\n",
    "\n",
    "from sklearn.model_selection import GridSearchCV"
   ]
  },
  {
   "cell_type": "code",
   "execution_count": 62,
   "id": "fabbf6e6",
   "metadata": {},
   "outputs": [],
   "source": [
    "import joblib\n",
    "from joblib import Memory\n",
    "\n",
    "import os\n",
    "import warnings\n",
    "\n",
    "warnings.filterwarnings('ignore')"
   ]
  },
  {
   "cell_type": "code",
   "execution_count": 63,
   "id": "44ac584a",
   "metadata": {},
   "outputs": [],
   "source": [
    "# Define a memory object to cache intermediate results\n",
    "cachedir = '.cache'\n",
    "memory = Memory(location=cachedir, verbose=0)\n",
    "\n",
    "pipelines = {\n",
    "    'logistic_regression': Pipeline([\n",
    "        ('scaler', StandardScaler()),\n",
    "        ('classifier', LogisticRegression())\n",
    "    ], memory=memory),\n",
    "    'decision_tree': Pipeline([\n",
    "        ('scaler', StandardScaler()),\n",
    "        ('classifier', DecisionTreeClassifier())\n",
    "    ], memory=memory),\n",
    "    'random_forest': Pipeline([\n",
    "        ('scaler', StandardScaler()),\n",
    "        ('classifier', RandomForestClassifier())\n",
    "    ], memory=memory),\n",
    "    'bagging': Pipeline([\n",
    "        ('scaler', StandardScaler()),\n",
    "        ('classifier', BaggingClassifier())\n",
    "    ], memory=memory),\n",
    "    'gradient_boost': Pipeline([\n",
    "        ('scaler', StandardScaler()),\n",
    "        ('classifier', GradientBoostingClassifier())\n",
    "    ], memory=memory),\n",
    "    'ada_boost': Pipeline([\n",
    "        ('scaler', StandardScaler()),\n",
    "        ('classifier', AdaBoostClassifier())\n",
    "    ], memory=memory),\n",
    "    'xg_boost': Pipeline([\n",
    "        ('scaler', StandardScaler()),\n",
    "        ('classifier', XGBClassifier())\n",
    "    ], memory=memory)\n",
    "}"
   ]
  },
  {
   "cell_type": "code",
   "execution_count": 64,
   "id": "dfa3f5bc",
   "metadata": {},
   "outputs": [],
   "source": [
    "# Define parameter grid for each algorithm\n",
    "param_grids = {\n",
    "    'logistic_regression': [\n",
    "        {\n",
    "            'classifier__C': [0.01, 0.1, 1, 10, 100],\n",
    "            'classifier__penalty': ['elasticnet'],\n",
    "            'classifier__l1_ratio': [0.2, 0.4, 0.5, 0.6, 0.8],\n",
    "            'classifier__solver': ['saga'],\n",
    "            'classifier__class_weight': ['balanced', None]\n",
    "        }\n",
    "    ],\n",
    "    'decision_tree': [\n",
    "        {\n",
    "            'classifier__max_depth': [None, 3, 5, 10, 20],\n",
    "            'classifier__min_samples_split': [2, 5, 10]\n",
    "        }\n",
    "    ],\n",
    "    'random_forest': [\n",
    "        {\n",
    "            'classifier__n_estimators': [50, 100, 200, 500],\n",
    "            'classifier__max_depth': [None, 10, 20, 30],\n",
    "            'classifier__min_samples_split': [2, 5, 10]\n",
    "        }\n",
    "    ],\n",
    "    'bagging': [\n",
    "        {\n",
    "            'classifier__base_estimator': [DecisionTreeClassifier(max_depth=5), DecisionTreeClassifier(max_depth=10)],\n",
    "            'classifier__n_estimators': [10, 50, 100, 200]\n",
    "        }\n",
    "    ],\n",
    "    'gradient_boost': [\n",
    "        {\n",
    "            'classifier__n_estimators': [50, 100, 200, 500],\n",
    "            'classifier__learning_rate': [0.01, 0.05, 0.1, 0.2, 0.5]        }\n",
    "    ],\n",
    "    'ada_boost': [\n",
    "        {\n",
    "            'classifier__base_estimator': [DecisionTreeClassifier(max_depth=1), DecisionTreeClassifier(max_depth=2)],\n",
    "            'classifier__n_estimators': [50, 100, 200, 500],\n",
    "            'classifier__learning_rate': [0.01, 0.05, 0.1, 0.2, 0.5]\n",
    "        }\n",
    "    ],\n",
    "    'xg_boost': [\n",
    "        {\n",
    "            'classifier__n_estimators': [50, 100, 200, 500],\n",
    "            'classifier__learning_rate': [0.01, 0.05, 0.1, 0.2, 0.5]        }\n",
    "    ]\n",
    "}"
   ]
  },
  {
   "cell_type": "code",
   "execution_count": 65,
   "id": "589ecac2",
   "metadata": {},
   "outputs": [
    {
     "name": "stdout",
     "output_type": "stream",
     "text": [
      "*************** logistic_regression ***************\n",
      "Fitting 5 folds for each of 50 candidates, totalling 250 fits\n",
      "CPU times: total: 45.5 s\n",
      "Wall time: 17.9 s\n",
      "Test Score:  0.6484848484848484\n",
      "\n",
      "*************** decision_tree ***************\n",
      "Fitting 5 folds for each of 15 candidates, totalling 75 fits\n",
      "CPU times: total: 1.12 s\n",
      "Wall time: 2.24 s\n",
      "Test Score:  0.6956228956228956\n",
      "\n",
      "*************** random_forest ***************\n",
      "Fitting 5 folds for each of 48 candidates, totalling 240 fits\n",
      "CPU times: total: 9min 2s\n",
      "Wall time: 10min 33s\n",
      "Test Score:  0.7023569023569024\n",
      "\n",
      "*************** bagging ***************\n",
      "Fitting 5 folds for each of 8 candidates, totalling 40 fits\n",
      "CPU times: total: 42.9 s\n",
      "Wall time: 47.4 s\n",
      "Test Score:  0.7037037037037037\n",
      "\n",
      "*************** gradient_boost ***************\n",
      "Fitting 5 folds for each of 20 candidates, totalling 100 fits\n",
      "CPU times: total: 2min 13s\n",
      "Wall time: 2min 30s\n",
      "Test Score:  0.7111111111111111\n",
      "\n",
      "*************** ada_boost ***************\n",
      "Fitting 5 folds for each of 40 candidates, totalling 200 fits\n",
      "CPU times: total: 6min 16s\n",
      "Wall time: 7min 8s\n",
      "Test Score:  0.6942760942760943\n",
      "\n",
      "*************** xg_boost ***************\n",
      "Fitting 5 folds for each of 20 candidates, totalling 100 fits\n",
      "CPU times: total: 10min 28s\n",
      "Wall time: 1min 33s\n",
      "Test Score:  0.7057239057239058\n",
      "\n"
     ]
    }
   ],
   "source": [
    "# Perform GridSearchCV for each algorithm\n",
    "best_models = {}\n",
    "\n",
    "for algo in pipelines.keys():\n",
    "    print(\"*\"*15, algo, \"*\"*15)\n",
    "    grid_search = GridSearchCV(estimator=pipelines[algo],\n",
    "                               param_grid=param_grids[algo],\n",
    "                               cv=5,\n",
    "                               scoring='accuracy',\n",
    "                               return_train_score=True,\n",
    "                               verbose=1\n",
    "                              )\n",
    "\n",
    "    # Ensure to have a split dataset\n",
    "    %time grid_search.fit(X_train_scaled, y_train)\n",
    "\n",
    "    best_models[algo] = grid_search.best_estimator_\n",
    "    \n",
    "    print('Test Score: ', grid_search.score(X_test_scaled, y_test))\n",
    "    print()"
   ]
  },
  {
   "cell_type": "code",
   "execution_count": 66,
   "id": "ad0e4197",
   "metadata": {},
   "outputs": [
    {
     "name": "stdout",
     "output_type": "stream",
     "text": [
      "logistic_regression\n",
      "Pipeline(memory=Memory(location=.cache\\joblib),\n",
      "         steps=[('scaler', StandardScaler()),\n",
      "                ('classifier',\n",
      "                 LogisticRegression(C=10, l1_ratio=0.2, penalty='elasticnet',\n",
      "                                    solver='saga'))])\n",
      "\n",
      "decision_tree\n",
      "Pipeline(memory=Memory(location=.cache\\joblib),\n",
      "         steps=[('scaler', StandardScaler()),\n",
      "                ('classifier', DecisionTreeClassifier(min_samples_split=5))])\n",
      "\n",
      "random_forest\n",
      "Pipeline(memory=Memory(location=.cache\\joblib),\n",
      "         steps=[('scaler', StandardScaler()),\n",
      "                ('classifier',\n",
      "                 RandomForestClassifier(max_depth=20, min_samples_split=10))])\n",
      "\n",
      "bagging\n",
      "Pipeline(memory=Memory(location=.cache\\joblib),\n",
      "         steps=[('scaler', StandardScaler()),\n",
      "                ('classifier',\n",
      "                 BaggingClassifier(base_estimator=DecisionTreeClassifier(max_depth=10),\n",
      "                                   n_estimators=200))])\n",
      "\n",
      "gradient_boost\n",
      "Pipeline(memory=Memory(location=.cache\\joblib),\n",
      "         steps=[('scaler', StandardScaler()),\n",
      "                ('classifier',\n",
      "                 GradientBoostingClassifier(learning_rate=0.5,\n",
      "                                            n_estimators=500))])\n",
      "\n",
      "ada_boost\n",
      "Pipeline(memory=Memory(location=.cache\\joblib),\n",
      "         steps=[('scaler', StandardScaler()),\n",
      "                ('classifier',\n",
      "                 AdaBoostClassifier(base_estimator=DecisionTreeClassifier(max_depth=2),\n",
      "                                    learning_rate=0.1, n_estimators=500))])\n",
      "\n",
      "xg_boost\n",
      "Pipeline(memory=Memory(location=.cache\\joblib),\n",
      "         steps=[('scaler', StandardScaler()),\n",
      "                ('classifier',\n",
      "                 XGBClassifier(base_score=0.5, booster='gbtree', callbacks=None,\n",
      "                               colsample_bylevel=1, colsample_bynode=1,\n",
      "                               colsample_bytree=1, early_stopping_rounds=None,\n",
      "                               enable_categorical=False, eval_metric=None,\n",
      "                               gamma=0, gpu_id=-1, grow_policy='depthwise',\n",
      "                               importance_type=None, interaction_constraints='',\n",
      "                               learning_rate=0.5, max_bin=256,\n",
      "                               max_cat_to_onehot=4, max_delta_step=0,\n",
      "                               max_depth=6, max_leaves=0, min_child_weight=1,\n",
      "                               missing=nan, monotone_constraints='()',\n",
      "                               n_estimators=50, n_jobs=0, num_parallel_tree=1,\n",
      "                               predictor='auto', random_state=0, reg_alpha=0,\n",
      "                               reg_lambda=1, ...))])\n",
      "\n"
     ]
    }
   ],
   "source": [
    "for name, model in best_models.items():\n",
    "    print(f\"{name}\")\n",
    "    print(f\"{model}\")\n",
    "    print()"
   ]
  },
  {
   "cell_type": "code",
   "execution_count": 68,
   "id": "c99f9566",
   "metadata": {},
   "outputs": [
    {
     "name": "stdout",
     "output_type": "stream",
     "text": [
      "*************** logistic_regression ***************\n",
      "CPU times: total: 0 ns\n",
      "Wall time: 768 µs\n",
      "Test Score:  0.6484848484848484\n",
      "Model Size:  1726 Bytes\n",
      "*************** decision_tree ***************\n",
      "CPU times: total: 0 ns\n",
      "Wall time: 0 ns\n",
      "Test Score:  0.6956228956228956\n",
      "Model Size:  129008 Bytes\n",
      "*************** random_forest ***************\n",
      "CPU times: total: 62.5 ms\n",
      "Wall time: 77.1 ms\n",
      "Test Score:  0.7023569023569024\n",
      "Model Size:  8017384 Bytes\n",
      "*************** bagging ***************\n",
      "CPU times: total: 109 ms\n",
      "Wall time: 152 ms\n",
      "Test Score:  0.7037037037037037\n",
      "Model Size:  9807791 Bytes\n",
      "*************** gradient_boost ***************\n",
      "CPU times: total: 15.6 ms\n",
      "Wall time: 34.8 ms\n",
      "Test Score:  0.7111111111111111\n",
      "Model Size:  853220 Bytes\n",
      "*************** ada_boost ***************\n",
      "CPU times: total: 250 ms\n",
      "Wall time: 319 ms\n",
      "Test Score:  0.6942760942760943\n",
      "Model Size:  449494 Bytes\n",
      "*************** xg_boost ***************\n",
      "CPU times: total: 31.2 ms\n",
      "Wall time: 8.75 ms\n",
      "Test Score:  0.7057239057239058\n",
      "Model Size:  175386 Bytes\n"
     ]
    }
   ],
   "source": [
    "for name, model in best_models.items():\n",
    "    print(\"*\" * 15, name, \"*\" * 15)\n",
    "\n",
    "    joblib.dump(model, f'{name}.pkl')\n",
    "    model = joblib.load(f'{name}.pkl')\n",
    "\n",
    "    %time y_test_pred = model.predict(X_test_scaled)\n",
    "    \n",
    "    acc = accuracy_score(y_test, y_test_pred)\n",
    "    \n",
    "    print(\"Test Score: \", acc)\n",
    "\n",
    "    print(\"Model Size: \", os.path.getsize(f'{name}.pkl'), \"Bytes\")"
   ]
  },
  {
   "cell_type": "markdown",
   "id": "3b1dc848",
   "metadata": {},
   "source": [
    "# Predicting results on new datapoint using XG Boost Classifier"
   ]
  },
  {
   "cell_type": "code",
   "execution_count": 71,
   "id": "976a6aad",
   "metadata": {},
   "outputs": [
    {
     "name": "stdout",
     "output_type": "stream",
     "text": [
      "Status: High Potential\n"
     ]
    }
   ],
   "source": [
    "from joblib import load\n",
    "\n",
    "# Load the model\n",
    "model = load('xg_boost.pkl')\n",
    "\n",
    "# Define the datapoint\n",
    "datapoint = [18, 5, 2, 2, 4]\n",
    "\n",
    "# Reshape the datapoint to 2D array\n",
    "datapoint_reshaped = [datapoint]\n",
    "\n",
    "# Predict the status\n",
    "prediction = model.predict(datapoint_reshaped)\n",
    "\n",
    "if(prediction[0]==1):\n",
    "    print(\"Status: High Potential\")\n",
    "else:\n",
    "    print(\"Status: Low Potential\")"
   ]
  }
 ],
 "metadata": {
  "kernelspec": {
   "display_name": "Python 3 (ipykernel)",
   "language": "python",
   "name": "python3"
  },
  "language_info": {
   "codemirror_mode": {
    "name": "ipython",
    "version": 3
   },
   "file_extension": ".py",
   "mimetype": "text/x-python",
   "name": "python",
   "nbconvert_exporter": "python",
   "pygments_lexer": "ipython3",
   "version": "3.11.5"
  }
 },
 "nbformat": 4,
 "nbformat_minor": 5
}
